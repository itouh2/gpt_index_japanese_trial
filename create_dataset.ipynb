{
 "cells": [
  {
   "cell_type": "code",
   "execution_count": 1,
   "metadata": {},
   "outputs": [],
   "source": [
    "import pandas as pd"
   ]
  },
  {
   "attachments": {},
   "cell_type": "markdown",
   "metadata": {},
   "source": [
    "# JSQuAD"
   ]
  },
  {
   "cell_type": "code",
   "execution_count": 2,
   "metadata": {},
   "outputs": [
    {
     "data": {
      "text/plain": [
       "(62859, 4)"
      ]
     },
     "execution_count": 2,
     "metadata": {},
     "output_type": "execute_result"
    }
   ],
   "source": [
    "import json\n",
    "import pandas as pd\n",
    "from urllib.request import urlopen\n",
    "import json\n",
    "\n",
    "# download and place jsquad train file\n",
    "# https://github.com/yahoojapan/JGLUE/blob/main/datasets/jsquad-v1.1/train-v1.1.json\n",
    "with open(\"./train-v1.1.json\", \"r\", encoding=\"utf-8\") as f:\n",
    "    json_data = json.load(f)\n",
    "\n",
    "data = []\n",
    "for d in json_data[\"data\"]:\n",
    "    title = d[\"title\"]\n",
    "    for p in d[\"paragraphs\"]:\n",
    "        context = p[\"context\"]\n",
    "        for qa in p[\"qas\"]:\n",
    "            data.append([\n",
    "                title,\n",
    "                context,\n",
    "                qa[\"question\"],\n",
    "                qa[\"answers\"][0][\"text\"],\n",
    "            ])\n",
    "df_jsquad = pd.DataFrame(data, columns=[\"title\", \"context\", \"question\", \"answer\"])\n",
    "df_jsquad.shape"
   ]
  },
  {
   "cell_type": "code",
   "execution_count": 3,
   "metadata": {},
   "outputs": [
    {
     "data": {
      "text/plain": [
       "(46641, 4)"
      ]
     },
     "execution_count": 3,
     "metadata": {},
     "output_type": "execute_result"
    }
   ],
   "source": [
    "# contextとanswerが共通しているデータを削除\n",
    "df_jsquad = df_jsquad.drop_duplicates(subset=[\"context\", \"answer\"], keep=\"first\")\n",
    "df_jsquad.shape"
   ]
  },
  {
   "attachments": {},
   "cell_type": "markdown",
   "metadata": {},
   "source": [
    "# JaQuAD"
   ]
  },
  {
   "cell_type": "code",
   "execution_count": null,
   "metadata": {},
   "outputs": [],
   "source": [
    "from datasets import load_dataset\n",
    "jaquad_data = load_dataset('SkelterLabsInc/JaQuAD')"
   ]
  },
  {
   "cell_type": "code",
   "execution_count": 5,
   "metadata": {},
   "outputs": [
    {
     "data": {
      "text/plain": [
       "{'id': 'tr-000-00-000',\n",
       " 'title': '手塚治虫',\n",
       " 'context': '手塚治虫(てづかおさむ、本名:手塚治(読み同じ)、1928年(昭和3年)11月3日-1989年(平成元年)2月9日)は、日本の漫画家、アニメーター、アニメ監督である。\\n戦後日本においてストーリー漫画の第一人者として、漫画表現の開拓者的な存在として活躍した。\\n\\n兵庫県宝塚市出身(出生は大阪府豊能郡豊中町、現在の豊中市)同市名誉市民である。\\n大阪帝国大学附属医学専門部を卒業。\\n医師免許取得のち医学博士(奈良県立医科大学・1961年)。',\n",
       " 'question': '戦後日本のストーリー漫画の第一人者で、医学博士の一面もある漫画家は誰?',\n",
       " 'question_type': 'Multiple sentence reasoning',\n",
       " 'answers': {'text': ['手塚治虫'], 'answer_start': [0], 'answer_type': ['Person']}}"
      ]
     },
     "execution_count": 5,
     "metadata": {},
     "output_type": "execute_result"
    }
   ],
   "source": [
    "jaquad_data[\"train\"][0]"
   ]
  },
  {
   "cell_type": "code",
   "execution_count": 6,
   "metadata": {},
   "outputs": [],
   "source": [
    "df_jqauad = pd.DataFrame(\n",
    "    [[e[\"title\"], e[\"context\"], e[\"question\"], e[\"answers\"][\"text\"][0]] for e in jaquad_data[\"train\"]],\n",
    "    columns=[\"title\", \"context\", \"question\", \"answer\"]\n",
    "    )"
   ]
  },
  {
   "cell_type": "code",
   "execution_count": 8,
   "metadata": {},
   "outputs": [
    {
     "data": {
      "text/plain": [
       "(78389, 4)"
      ]
     },
     "execution_count": 8,
     "metadata": {},
     "output_type": "execute_result"
    }
   ],
   "source": [
    "df = pd.concat([df_jqauad, df_jsquad])\n",
    "df.shape"
   ]
  },
  {
   "attachments": {},
   "cell_type": "markdown",
   "metadata": {},
   "source": [
    "# Prompts"
   ]
  },
  {
   "cell_type": "code",
   "execution_count": 9,
   "metadata": {},
   "outputs": [],
   "source": [
    "DEFAULT_PROMPT = \"\"\"\n",
    "文脈情報は以下です。\n",
    "---\n",
    "{context_str}\n",
    "---\n",
    "事前知識ではなく、文脈情報を参考に質問に答えてください。：{query_str}\n",
    "\"\"\"\n",
    "\n",
    "REFINE_PROMPT = \"\"\"\n",
    "質問は以下です。：{query_str}\n",
    "すでに答えの候補があります。：{existing_answer}\n",
    "必要な場合のみ、以下の文脈情報を使ってこの答えを改良することができます。\n",
    "---\n",
    "{context_str}\n",
    "---\n",
    "この文脈情報により、元の答えを改良して質問に答えてください。\n",
    "文脈情報が有用でない場合は元の答えをそのまま返してください。\n",
    "\"\"\""
   ]
  },
  {
   "attachments": {},
   "cell_type": "markdown",
   "metadata": {},
   "source": [
    "# Training Pattern"
   ]
  },
  {
   "cell_type": "code",
   "execution_count": null,
   "metadata": {},
   "outputs": [],
   "source": [
    "IMPOSSIBLE_TARGET = \"すみません、答えられません。\"\n",
    "\n",
    "def create_default(row, df):\n",
    "    prompt = DEFAULT_PROMPT.format(\n",
    "        context_str=row[\"context\"],\n",
    "        query_str=row[\"question\"]\n",
    "        )\n",
    "    target = row[\"answer\"]\n",
    "    return prompt, target, \"default\"\n",
    "\n",
    "def create_impossible(row, df):\n",
    "    # ランダムに、異なるtitleのcontextに対する質問をピックアップする\n",
    "    context = row[\"context\"]\n",
    "    impossible_question = df[df[\"title\"]!=row[\"title\"]].sample(1).iloc[0][\"question\"]\n",
    "    prompt = DEFAULT_PROMPT.format(\n",
    "        context_str=context,\n",
    "        query_str=impossible_question\n",
    "        )\n",
    "    return prompt, IMPOSSIBLE_TARGET, \"impossible\"\n",
    "\n",
    "import random\n",
    "def create_refine_incorrect2correct(row, df):\n",
    "    # 誤った答えを正しいcontextでrefineする\n",
    "    context = row[\"context\"]\n",
    "    wrong_answer = df[df[\"title\"]!=row[\"title\"]].sample(1).iloc[0][\"answer\"]\n",
    "    wrong_answer = random.choice([wrong_answer, IMPOSSIBLE_TARGET])\n",
    "    prompt = REFINE_PROMPT.format(\n",
    "        query_str=row[\"question\"],\n",
    "        existing_answer=wrong_answer,\n",
    "        context_str=row[\"context\"],\n",
    "    )\n",
    "    return prompt, row[\"answer\"], \"incorrect2correct\"\n",
    "\n",
    "def create_refine_incorrect2incorrect(row, df):\n",
    "    # 誤った答えだが、contextが異なるためrefineしない\n",
    "    # IMPOSSIBLE_TARGETにはせず、wrong_answerをそのまま返す\n",
    "    wrong_context = df[df[\"title\"]!=row[\"title\"]].sample(1).iloc[0][\"context\"]\n",
    "    wrong_answer = df[df[\"title\"]!=row[\"title\"]].sample(1).iloc[0][\"answer\"]\n",
    "    wrong_answer = random.choice([wrong_answer, IMPOSSIBLE_TARGET])\n",
    "    prompt = REFINE_PROMPT.format(\n",
    "        query_str=row[\"question\"],\n",
    "        existing_answer=wrong_answer,\n",
    "        context_str=wrong_context,\n",
    "    )\n",
    "    return prompt, wrong_answer, \"incorrect2incorrect\"\n",
    "\n",
    "def create_refine_correct2incorrect(row, df):\n",
    "    # 正しい答えを誤ったcontextでrefineしない\n",
    "    wrong_context = df[df[\"title\"]!=row[\"title\"]].sample(1).iloc[0][\"context\"]\n",
    "    prompt = REFINE_PROMPT.format(\n",
    "        query_str=row[\"question\"],\n",
    "        existing_answer=row[\"answer\"],\n",
    "        context_str=wrong_context,\n",
    "    )\n",
    "    return prompt, row[\"answer\"], \"correct2incorrect\"\n",
    "\n",
    "def create_refine_correct2correct(row, df):\n",
    "    # 正しい答えを正しいcontextでそのまま返す\n",
    "    prompt = REFINE_PROMPT.format(\n",
    "        query_str=row[\"question\"],\n",
    "        existing_answer=row[\"answer\"],\n",
    "        context_str=row[\"context\"],\n",
    "    )\n",
    "    return prompt, row[\"answer\"], \"correct2correct\""
   ]
  },
  {
   "cell_type": "code",
   "execution_count": 10,
   "metadata": {},
   "outputs": [],
   "source": [
    "import numpy as np \n",
    "# パターンごとの学習データの割合を決める\n",
    "p = [\n",
    "    2.0, \n",
    "    0.4, # モデルがimpossibleを返しすぎることを防ぐため学習件数を少なくする\n",
    "    1.0,\n",
    "    1.0,\n",
    "    1.0,\n",
    "    1.0,\n",
    "    ]\n",
    "pattern_list = np.random.choice(\n",
    "    a=[\n",
    "        create_default,\n",
    "        create_impossible, \n",
    "        create_refine_incorrect2correct,\n",
    "        create_refine_incorrect2incorrect,\n",
    "        create_refine_correct2correct,\n",
    "        create_refine_correct2incorrect,\n",
    "        ],\n",
    "    size=len(df),\n",
    "    p=np.array(p)/sum(p)\n",
    "    )"
   ]
  },
  {
   "attachments": {},
   "cell_type": "markdown",
   "metadata": {},
   "source": [
    "# データセット作成"
   ]
  },
  {
   "cell_type": "code",
   "execution_count": 11,
   "metadata": {},
   "outputs": [
    {
     "name": "stderr",
     "output_type": "stream",
     "text": [
      "100%|██████████| 78389/78389 [10:11<00:00, 128.27it/s]\n"
     ]
    },
    {
     "data": {
      "text/plain": [
       "(78389, 3)"
      ]
     },
     "execution_count": 11,
     "metadata": {},
     "output_type": "execute_result"
    }
   ],
   "source": [
    "import tqdm\n",
    "train_data = []\n",
    "for i in tqdm.tqdm(range(len(df))):\n",
    "    func = pattern_list[i]\n",
    "    row = df.iloc[i]\n",
    "    prompt, target, category = func(row, df)\n",
    "    train_data.append([prompt, target, category])\n",
    "train_df = pd.DataFrame(train_data, columns=[\"prompt\", \"target\", \"category\"])\n",
    "train_df.shape"
   ]
  },
  {
   "cell_type": "code",
   "execution_count": 12,
   "metadata": {},
   "outputs": [
    {
     "data": {
      "text/plain": [
       "array(['\\n文脈情報は以下です。\\n---\\n橋は1977年より測量や設計、および用地買収に着手され、1984年夏より橋の施工が開始された。施工は日本橋梁、および三菱重工業(現、三菱重工鉄構エンジニアリング)が行い、深い谷でベント(仮受け台)の設置が困難な場所なため、架設工法としてケーブルクレーンによる斜吊り工法(ケーブルエレクション斜吊り工法とも呼ぶ)が用いられた。橋長149.200m、総幅員6.500m、有効幅員5.250m(車道3.750m、歩道1.500m)。最大支間長は99.000mで、支間割は21.700m、99.000m、21.700mである。なお左岸側でコンクリート橋に接続され、その橋を含めた総延長は159.6mと旧橋とほぼ同じ長さとなる。ただし、径間長やアーチライズ比が旧橋と異なるため、景観美が損なわれてしまった。1986年2月15日午前11時より橋の閉合式が開催され、荒川村長をはじめ地元および工事関係者が出席した。式典では神事のあと、関係者が見守る中ケーブルクレーンで搬送された7.5メートル重さ3.7トンの桁が両岸より伸びる橋桁の隙間に降下させた後結合して、橋が一本に繋がった。役目を終えたケーブルクレーンなどの仮設工は解体撤去され、床版コンクリート打設や橋桁塗装などの工事が行なわれ、橋は1986年8月完成し、同年9月3日開通した。開通式は午前11時より新橋袂の特設テントにて挙行され、地元選出の代議士や県会議員が来賓として招かれた。式典は祝辞の後、荒川村長らによるテープカットが執り行われ、この後に渡り初めを行う予定だったが、台風崩れの低気圧による大雨のため渡り初めは中止され、二組の三世代家族によるくす玉開披に変更となった。橋は同日15時から一般供用が開始された。\\n---\\n事前知識ではなく、文脈情報を参考に質問に答えてください。：橋の架設工法として用いられた工法は何ですか。\\n',\n",
       "       'ケーブルクレーンによる斜吊り工法', 'default'], dtype=object)"
      ]
     },
     "execution_count": 12,
     "metadata": {},
     "output_type": "execute_result"
    }
   ],
   "source": [
    "train_df.sample(1).iloc[0].values"
   ]
  },
  {
   "cell_type": "code",
   "execution_count": 13,
   "metadata": {},
   "outputs": [
    {
     "data": {
      "text/plain": [
       "default                24565\n",
       "incorrect2correct      12262\n",
       "correct2correct        12202\n",
       "correct2incorrect      12201\n",
       "incorrect2incorrect    12185\n",
       "impossible              4974\n",
       "Name: category, dtype: int64"
      ]
     },
     "execution_count": 13,
     "metadata": {},
     "output_type": "execute_result"
    }
   ],
   "source": [
    "train_df[\"category\"].value_counts()"
   ]
  },
  {
   "cell_type": "code",
   "execution_count": 14,
   "metadata": {},
   "outputs": [],
   "source": [
    "train_df.to_csv(\"train.csv\", index=False, encoding=\"utf-8\")"
   ]
  }
 ],
 "metadata": {
  "kernelspec": {
   "display_name": "venv",
   "language": "python",
   "name": "python3"
  },
  "language_info": {
   "codemirror_mode": {
    "name": "ipython",
    "version": 3
   },
   "file_extension": ".py",
   "mimetype": "text/x-python",
   "name": "python",
   "nbconvert_exporter": "python",
   "pygments_lexer": "ipython3",
   "version": "3.9.11 (tags/v3.9.11:2de452f, Mar 16 2022, 14:33:45) [MSC v.1929 64 bit (AMD64)]"
  },
  "orig_nbformat": 4,
  "vscode": {
   "interpreter": {
    "hash": "7f654d66d151deba9457e27d06730dde595b930a8810fc70e1b9eaf1b703f5dc"
   }
  }
 },
 "nbformat": 4,
 "nbformat_minor": 2
}
